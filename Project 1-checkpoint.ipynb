{
 "cells": [
  {
   "cell_type": "code",
   "execution_count": 1,
   "id": "3cbdbbd3-4e01-4ee4-9b71-da12a597a464",
   "metadata": {},
   "outputs": [
    {
     "name": "stdout",
     "output_type": "stream",
     "text": [
      "Nearest pairs using Manhattan Distance: [(array([1, 2]), array([2, 3])), (array([3, 4]), array([2, 3])), (array([5, 6]), array([4, 5]))]\n",
      "Nearest pairs using Euclidean Distance: [(array([1, 2]), array([2, 3])), (array([3, 4]), array([2, 3])), (array([5, 6]), array([4, 5]))]\n"
     ]
    }
   ],
   "source": [
    "import numpy as np\n",
    "\n",
    "# Function to calculate Manhattan and Euclidean distances\n",
    "def calculate_distance(point1, point2, norm_type):\n",
    "    if norm_type == 1:\n",
    "        # Manhattan Distance (L1 norm)\n",
    "        return np.sum(np.abs(point1 - point2))\n",
    "    elif norm_type == 2:\n",
    "        # Euclidean Distance (L2 norm)\n",
    "        return np.sqrt(np.sum((point1 - point2) ** 2))\n",
    "    else:\n",
    "        raise ValueError(\"Norm type must be 1 (Manhattan) or 2 (Euclidean).\")\n",
    "\n",
    "# Function to find the nearest neighbor in Array2 for each point in Array1\n",
    "def nearest_neighbor(array1, array2, norm_type=2):\n",
    "    nearest_pairs = []\n",
    "    for point1 in array1:\n",
    "        min_distance = float('inf')\n",
    "        closest_point = None\n",
    "        for point2 in array2:\n",
    "            distance = calculate_distance(point1, point2, norm_type)\n",
    "            if distance < min_distance:\n",
    "                min_distance = distance\n",
    "                closest_point = point2\n",
    "        nearest_pairs.append((point1, closest_point))\n",
    "    return nearest_pairs\n",
    "\n",
    "# Example usage\n",
    "array1 = np.array([[1, 2], [3, 4], [5, 6]])\n",
    "array2 = np.array([[7, 8], [2, 3], [4, 5]])\n",
    "\n",
    "# Choosing norm_type as 1 for Manhattan Distance\n",
    "norm_type = 1\n",
    "nearest_pairs_manhattan = nearest_neighbor(array1, array2, norm_type)\n",
    "print(\"Nearest pairs using Manhattan Distance:\", nearest_pairs_manhattan)\n",
    "\n",
    "# Choosing norm_type as 2 for Euclidean Distance\n",
    "norm_type = 2\n",
    "nearest_pairs_euclidean = nearest_neighbor(array1, array2, norm_type)\n",
    "print(\"Nearest pairs using Euclidean Distance:\", nearest_pairs_euclidean)"
   ]
  },
  {
   "cell_type": "code",
   "execution_count": null,
   "id": "538cc6f8-1cfc-4f0a-8de8-4725acc690cb",
   "metadata": {},
   "outputs": [],
   "source": []
  }
 ],
 "metadata": {
  "kernelspec": {
   "display_name": "Python 3 (ipykernel)",
   "language": "python",
   "name": "python3"
  },
  "language_info": {
   "codemirror_mode": {
    "name": "ipython",
    "version": 3
   },
   "file_extension": ".py",
   "mimetype": "text/x-python",
   "name": "python",
   "nbconvert_exporter": "python",
   "pygments_lexer": "ipython3",
   "version": "3.11.7"
  }
 },
 "nbformat": 4,
 "nbformat_minor": 5
}
